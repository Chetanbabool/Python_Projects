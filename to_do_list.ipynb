{
 "cells": [
  {
   "cell_type": "markdown",
   "id": "72165608-1cc0-49e4-a855-86e2ebac9ff0",
   "metadata": {},
   "source": [
    "### To Do List"
   ]
  },
  {
   "cell_type": "raw",
   "id": "c41a7220-b4b1-4bfb-a4d8-9fea1559c719",
   "metadata": {},
   "source": [
    "Description:\n",
    "Build a to-do list application where users can add tasks, mark them as completed, and view their tasks. Utilize dictionaries or\n",
    "classes to represent tasks, including attributes like description and completion status. Implement user-friendly interfaces\n",
    "for task management."
   ]
  },
  {
   "cell_type": "code",
   "execution_count": 2,
   "id": "c2ed8cb4-bbf5-498b-b82c-a8226743f857",
   "metadata": {},
   "outputs": [],
   "source": [
    "dict_values = []\n",
    "def_value = False\n",
    "\n",
    "def to_do_list():\n",
    "    dict_values.clear()\n",
    "\n",
    "    try:\n",
    "        while True:\n",
    "            user_input = input('Enter your task detail (text only): ')\n",
    "            if user_input.isdigit():\n",
    "                raise ValueError(\"Task cannot be a number!\")\n",
    "            dict_values.append(user_input)\n",
    "\n",
    "            if_exit = input(\"Do you want to exit? Type 'Y' to exit or 'N' to continue: \")\n",
    "            if if_exit.lower() == 'y':\n",
    "                break\n",
    "            elif if_exit.lower() != 'n':\n",
    "                print(\"Invalid input, continuing...\")\n",
    "\n",
    "        merge_list = {\n",
    "            f'Task {i}': {'Task Name': task, 'completed': def_value} \n",
    "            for i, task in enumerate(dict_values, 1)\n",
    "        }\n",
    "\n",
    "        see_list = input(\"Do you want to see the task list? (Y/N): \")\n",
    "        if see_list.lower() == 'y':\n",
    "            for task_data in merge_list.values():\n",
    "                print(task_data)\n",
    "\n",
    "        final_mark_list = []\n",
    "        print(\"\\n## Mark which tasks you have completed ##\")\n",
    "        for key in merge_list:\n",
    "            task_name = merge_list[key]['Task Name']\n",
    "            print('Task Name:', task_name)\n",
    "            mark_input = input(\"Did you complete this task? (True/False): \")\n",
    "            if mark_input.lower() not in ['true', 'false']:\n",
    "                raise ValueError(\"Input must be 'True' or 'False'\")\n",
    "            is_completed = mark_input.lower() == 'true'\n",
    "            merge_list[key]['completed'] = is_completed\n",
    "            final_mark_list.append(['Task Name:', task_name, 'Completed:', is_completed])\n",
    "\n",
    "        print(\"\\n### Final Task List ###\")\n",
    "        for item in final_mark_list:\n",
    "            print(item)\n",
    "\n",
    "    except ValueError as ve:\n",
    "        print(f\"\\n[Input Error] {ve}\")\n",
    "    except Exception as e:\n",
    "        print(f\"\\n[Unexpected Error] {e}\")"
   ]
  },
  {
   "cell_type": "code",
   "execution_count": 3,
   "id": "5e65b2a8-30ec-4cb3-99cd-fe59ebeacc31",
   "metadata": {},
   "outputs": [
    {
     "name": "stdin",
     "output_type": "stream",
     "text": [
      "Enter your task detail (text only):  need to sleep\n",
      "Do you want to exit? Type 'Y' to exit or 'N' to continue:  n\n",
      "Enter your task detail (text only):  after that go to gym\n",
      "Do you want to exit? Type 'Y' to exit or 'N' to continue:  y\n",
      "Do you want to see the task list? (Y/N):  y\n"
     ]
    },
    {
     "name": "stdout",
     "output_type": "stream",
     "text": [
      "{'Task Name': 'need to sleep', 'completed': False}\n",
      "{'Task Name': 'after that go to gym', 'completed': False}\n",
      "\n",
      "## Mark which tasks you have completed ##\n",
      "Task Name: need to sleep\n"
     ]
    },
    {
     "name": "stdin",
     "output_type": "stream",
     "text": [
      "Did you complete this task? (True/False):  false\n"
     ]
    },
    {
     "name": "stdout",
     "output_type": "stream",
     "text": [
      "Task Name: after that go to gym\n"
     ]
    },
    {
     "name": "stdin",
     "output_type": "stream",
     "text": [
      "Did you complete this task? (True/False):  true\n"
     ]
    },
    {
     "name": "stdout",
     "output_type": "stream",
     "text": [
      "\n",
      "### Final Task List ###\n",
      "['Task Name:', 'need to sleep', 'Completed:', False]\n",
      "['Task Name:', 'after that go to gym', 'Completed:', True]\n",
      "\n",
      "✅ Task list saved to 'todo_list.csv'\n"
     ]
    }
   ],
   "source": [
    "to_do_list()"
   ]
  },
  {
   "cell_type": "code",
   "execution_count": null,
   "id": "3ad2960f-db13-4557-9926-a590ab74f99b",
   "metadata": {},
   "outputs": [],
   "source": []
  }
 ],
 "metadata": {
  "kernelspec": {
   "display_name": "Python 3 (ipykernel)",
   "language": "python",
   "name": "python3"
  },
  "language_info": {
   "codemirror_mode": {
    "name": "ipython",
    "version": 3
   },
   "file_extension": ".py",
   "mimetype": "text/x-python",
   "name": "python",
   "nbconvert_exporter": "python",
   "pygments_lexer": "ipython3",
   "version": "3.12.7"
  }
 },
 "nbformat": 4,
 "nbformat_minor": 5
}
