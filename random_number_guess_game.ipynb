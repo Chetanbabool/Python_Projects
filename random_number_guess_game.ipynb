{
 "cells": [
  {
   "cell_type": "markdown",
   "id": "e18d971a-8b1b-4371-a11b-aaae989da238",
   "metadata": {},
   "source": [
    "### Random Number Guess Game"
   ]
  },
  {
   "cell_type": "raw",
   "id": "20b22a89-145a-48f3-b077-e40a454076e5",
   "metadata": {},
   "source": [
    "Description:\n",
    "Create a number guessing game where the program generates a random number, and the user has to guess it. Provide hints (higher\n",
    "or lower) based on the user's guesses and keep track of the number of attempts. Enhance user interaction with clear\n",
    "instructions and feedback."
   ]
  },
  {
   "cell_type": "code",
   "execution_count": 1,
   "id": "ad1167cd-a7de-4ad1-aed8-c844b493cd20",
   "metadata": {},
   "outputs": [
    {
     "name": "stdout",
     "output_type": "stream",
     "text": [
      "## Number Guessing Game ##\n",
      "You only have 7 chances to win.\n",
      "\n"
     ]
    },
    {
     "name": "stdin",
     "output_type": "stream",
     "text": [
      "Chance 1: Enter a number between 0 and 100 to win:  jh\n"
     ]
    },
    {
     "name": "stdout",
     "output_type": "stream",
     "text": [
      "Invalid input! Please enter a valid integer.\n"
     ]
    },
    {
     "name": "stdin",
     "output_type": "stream",
     "text": [
      "Chance 2: Enter a number between 0 and 100 to win:  6\n"
     ]
    },
    {
     "name": "stdout",
     "output_type": "stream",
     "text": [
      "Entered number is less than the secret number.\n",
      "You have 5 chances left.\n",
      "\n"
     ]
    },
    {
     "name": "stdin",
     "output_type": "stream",
     "text": [
      "Chance 3: Enter a number between 0 and 100 to win:  4\n"
     ]
    },
    {
     "name": "stdout",
     "output_type": "stream",
     "text": [
      "Entered number is less than the secret number.\n",
      "You have 4 chances left.\n",
      "\n"
     ]
    },
    {
     "name": "stdin",
     "output_type": "stream",
     "text": [
      "Chance 4: Enter a number between 0 and 100 to win:  5\n"
     ]
    },
    {
     "name": "stdout",
     "output_type": "stream",
     "text": [
      "Entered number is less than the secret number.\n",
      "You have 3 chances left.\n",
      "\n"
     ]
    },
    {
     "name": "stdin",
     "output_type": "stream",
     "text": [
      "Chance 5: Enter a number between 0 and 100 to win:  0\n"
     ]
    },
    {
     "name": "stdout",
     "output_type": "stream",
     "text": [
      "Entered number is less than the secret number.\n",
      "You have 2 chances left.\n",
      "\n"
     ]
    },
    {
     "name": "stdin",
     "output_type": "stream",
     "text": [
      "Chance 6: Enter a number between 0 and 100 to win:  55\n"
     ]
    },
    {
     "name": "stdout",
     "output_type": "stream",
     "text": [
      "Entered number is greater than the secret number.\n",
      "You have 1 chances left.\n",
      "\n"
     ]
    },
    {
     "name": "stdin",
     "output_type": "stream",
     "text": [
      "Chance 7: Enter a number between 0 and 100 to win:  20\n"
     ]
    },
    {
     "name": "stdout",
     "output_type": "stream",
     "text": [
      "Entered number is less than the secret number.\n",
      "You have 0 chances left.\n",
      "\n",
      "Sorry! You have used all your chances. The secret number was 44.\n"
     ]
    }
   ],
   "source": [
    "import random\n",
    "\n",
    "print('## Number Guessing Game ##')\n",
    "print('You only have 7 chances to win.\\n')\n",
    "\n",
    "random_num = random.randint(0,100)\n",
    "chances = 7\n",
    "\n",
    "for i in range(1, chances + 1):\n",
    "    user_input = input(f'Chance {i}: Enter a number between 0 and 100 to win: ')\n",
    "    try:\n",
    "        user_input_int = int(user_input)\n",
    "    except ValueError:\n",
    "        print(\"Invalid input! Please enter a valid integer.\")\n",
    "        continue\n",
    "    if user_input_int < random_num:\n",
    "        print(f'Entered number is less than the secret number.\\nYou have {chances - i} chances left.\\n')\n",
    "    elif user_input_int > random_num:\n",
    "        print(f'Entered number is greater than the secret number.\\nYou have {chances - i} chances left.\\n')\n",
    "    else:\n",
    "        print('Congratulations! You WIN!')\n",
    "        break\n",
    "\n",
    "else:\n",
    "    print(f'Sorry! You have used all your chances. The secret number was {random_num}.')\n",
    "\n",
    "    "
   ]
  },
  {
   "cell_type": "code",
   "execution_count": null,
   "id": "d2f72f64-8ac4-438b-bccf-55ab7f5d8de1",
   "metadata": {},
   "outputs": [],
   "source": []
  }
 ],
 "metadata": {
  "kernelspec": {
   "display_name": "Python 3 (ipykernel)",
   "language": "python",
   "name": "python3"
  },
  "language_info": {
   "codemirror_mode": {
    "name": "ipython",
    "version": 3
   },
   "file_extension": ".py",
   "mimetype": "text/x-python",
   "name": "python",
   "nbconvert_exporter": "python",
   "pygments_lexer": "ipython3",
   "version": "3.12.7"
  }
 },
 "nbformat": 4,
 "nbformat_minor": 5
}
