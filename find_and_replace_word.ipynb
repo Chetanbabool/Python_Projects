{
 "cells": [
  {
   "cell_type": "markdown",
   "id": "49a5b962-81ce-45ab-9f4e-07bb5a73be2a",
   "metadata": {},
   "source": [
    "### Find and replace word"
   ]
  },
  {
   "cell_type": "raw",
   "id": "e68d4277-be62-4243-83d9-d404321fd381",
   "metadata": {},
   "source": [
    "Description:\n",
    "Develop a program that reads data from a text file, performs operations like finding and replacing specific words, and saves\n",
    "the modified data back to the file. Introduce error handling to manage filerelated exceptions, ensuring the program handles\n",
    "different scenarios gracefully.\n"
   ]
  },
  {
   "cell_type": "code",
   "execution_count": 1,
   "id": "a61b0555-db64-4ef5-84fb-5789c6867ce6",
   "metadata": {},
   "outputs": [
    {
     "name": "stdin",
     "output_type": "stream",
     "text": [
      "Enter the name of the file (with .txt):  right\n",
      "Enter the word to find:  hello\n",
      "Enter the replacement word:  new\n"
     ]
    },
    {
     "name": "stdout",
     "output_type": "stream",
     "text": [
      "Error: The file 'right' was not found.\n"
     ]
    }
   ],
   "source": [
    "def find_and_replace(file_name, word_to_find, replacement_word):\n",
    "    try:\n",
    "        with open(file_name, 'r') as file:\n",
    "            content = file.read()\n",
    "\n",
    "        if word_to_find not in content:\n",
    "            print(f\"The word '{word_to_find}' was not found in the file.\")\n",
    "        else:\n",
    "            updated_content = content.replace(word_to_find, replacement_word)\n",
    "            with open(file_name, 'w') as file:\n",
    "                file.write(updated_content)\n",
    "            print(\"Replacement successful and file updated.\")\n",
    "\n",
    "    except FileNotFoundError:\n",
    "        print(f\"Error: The file '{file_name}' was not found.\")\n",
    "\n",
    "if __name__ == \"__main__\":\n",
    "    file_name = input(\"Enter the name of the file (with .txt): \")\n",
    "    word_to_find = input(\"Enter the word to find: \")\n",
    "    replacement_word = input(\"Enter the replacement word: \")\n",
    "\n",
    "    find_and_replace(file_name, word_to_find, replacement_word)\n"
   ]
  },
  {
   "cell_type": "code",
   "execution_count": null,
   "id": "6b59afeb-9954-4871-a638-eb9f5147f7ce",
   "metadata": {},
   "outputs": [],
   "source": []
  }
 ],
 "metadata": {
  "kernelspec": {
   "display_name": "Python 3 (ipykernel)",
   "language": "python",
   "name": "python3"
  },
  "language_info": {
   "codemirror_mode": {
    "name": "ipython",
    "version": 3
   },
   "file_extension": ".py",
   "mimetype": "text/x-python",
   "name": "python",
   "nbconvert_exporter": "python",
   "pygments_lexer": "ipython3",
   "version": "3.12.7"
  }
 },
 "nbformat": 4,
 "nbformat_minor": 5
}
