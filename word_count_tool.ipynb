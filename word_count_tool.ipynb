{
 "cells": [
  {
   "cell_type": "markdown",
   "id": "f044abbf-c599-4743-a5c3-41e42e4d9105",
   "metadata": {},
   "source": [
    "### Word Count Tool"
   ]
  },
  {
   "cell_type": "raw",
   "id": "54c78718-effb-41ba-b479-11eee994b5bf",
   "metadata": {},
   "source": [
    "Description:\n",
    "\n",
    "Build a program that analyzes a text file and counts the number of words, lines, and characters in the file. Additionally, implement\n",
    "word frequency analysis to determine the most common words used in the text. Present the analysis results in a structured format, \n",
    "showcasing the word count and frequency distribution.\n"
   ]
  },
  {
   "cell_type": "code",
   "execution_count": 85,
   "id": "60db8347-f554-45e2-8f77-cfa6c463d842",
   "metadata": {},
   "outputs": [],
   "source": [
    "from collections import Counter\n",
    "\n",
    "class txt_file_analysis:\n",
    "    def __init__(self,filename):\n",
    "        self.filename = filename\n",
    "        with open (self.filename,'r',encoding='utf-8') as file:\n",
    "            self.file_data = file.read()\n",
    "        \n",
    "    def lines_counts(self):\n",
    "            count_lines= self.file_data.count('\\n')  \n",
    "            return count_lines\n",
    "        \n",
    "    def word_count(self):\n",
    "        try:\n",
    "            count_word = len(self.file_data.split())\n",
    "            return count_word\n",
    "        except FileNotFoundError:\n",
    "            return \"File not found.\"\n",
    "            \n",
    "    def char_count(self):\n",
    "        try:\n",
    "            count_char= len(self.file_data)\n",
    "            return count_char\n",
    "        except FileNotFoundError:\n",
    "            return \"File not found.\"\n",
    "            \n",
    "    def most_common_words(self):\n",
    "        try:\n",
    "            cleaned_words = [word for word in self.file_data.split()]\n",
    "            word_freq = Counter(cleaned_words)\n",
    "            return word_freq.most_common(10)\n",
    "    \n",
    "        except FileNotFoundError:\n",
    "            return \"File not found.\"\n",
    "\n",
    "    def display_final_output(self):\n",
    "        print(\"Lines:\", analyzer.lines_counts())\n",
    "        print(\"Words:\", analyzer.word_count())\n",
    "        print(\"Characters:\", analyzer.char_count())\n",
    "        print(\"Top 10 Words:\", analyzer.most_common_words())"
   ]
  },
  {
   "cell_type": "code",
   "execution_count": 86,
   "id": "88d04aa1-62f3-48ec-985a-9b61e0e1df10",
   "metadata": {},
   "outputs": [
    {
     "name": "stdout",
     "output_type": "stream",
     "text": [
      "Lines: 12\n",
      "Words: 281\n",
      "Characters: 1690\n",
      "Top 10 Words: [('I', 21), ('and', 16), ('am', 9), ('to', 8), ('of', 8), ('the', 7), ('is', 5), ('a', 5), ('who', 5), ('in', 5)]\n"
     ]
    }
   ],
   "source": [
    "analyzer = txt_file_analysis(\"C:\\\\Users\\\\cheta\\\\Downloads\\\\erfv.txt\")\n",
    "analyzer.display_final_output()"
   ]
  },
  {
   "cell_type": "code",
   "execution_count": null,
   "id": "55a3cd61-2cfc-4b85-878e-f363742119ee",
   "metadata": {},
   "outputs": [],
   "source": []
  }
 ],
 "metadata": {
  "kernelspec": {
   "display_name": "Python 3 (ipykernel)",
   "language": "python",
   "name": "python3"
  },
  "language_info": {
   "codemirror_mode": {
    "name": "ipython",
    "version": 3
   },
   "file_extension": ".py",
   "mimetype": "text/x-python",
   "name": "python",
   "nbconvert_exporter": "python",
   "pygments_lexer": "ipython3",
   "version": "3.12.7"
  }
 },
 "nbformat": 4,
 "nbformat_minor": 5
}
