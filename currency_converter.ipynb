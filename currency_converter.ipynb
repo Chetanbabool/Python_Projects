{
 "cells": [
  {
   "cell_type": "markdown",
   "id": "14e60c2e-0359-4aae-b0e0-8fc4dfa9aba1",
   "metadata": {},
   "source": [
    "### Currency Converter"
   ]
  },
  {
   "cell_type": "raw",
   "id": "292b978d-5bda-4244-ae53-90042270a75e",
   "metadata": {},
   "source": [
    "Create a currency converter that can convert between different currencies based on user input. Integrate APIs like Open Exchange\n",
    "Rates to obtain real-time exchange rates. Implement user-friendly interfaces for currency selection and amount input. Ensure\n",
    "accurate conversions and error handling for invalid inputs."
   ]
  },
  {
   "cell_type": "code",
   "execution_count": 1,
   "id": "1fd695b0-13cb-4811-ac4c-f43109742d0e",
   "metadata": {},
   "outputs": [
    {
     "name": "stdout",
     "output_type": "stream",
     "text": [
      "INR rate is 86.3873 and USD rate is 1 and converted amount is: 0.5787887802952517\n"
     ]
    }
   ],
   "source": [
    "import requests\n",
    "\n",
    "def currency_exchange(first_currency,first_amu,second_currency):\n",
    "    url = 'https://v6.exchangerate-api.com/v6/7381d5ef2bb0058388ed008f/latest/USD'\n",
    "    response = requests.get(url)\n",
    "    data = response.json()\n",
    "\n",
    "    if response.status_code == 200:\n",
    "        var1 = data.get('conversion_rates')[first_currency] \n",
    "        var2 = data.get('conversion_rates')[second_currency]\n",
    "        final_amount = (first_amu/var1)*var2\n",
    "        print(f'{first_currency} rate is {var1} and {second_currency} rate is {var2} and converted amount is: {final_amount}')\n",
    "    else:\n",
    "        print('*Error*')\n",
    "\n"
   ]
  },
  {
   "cell_type": "code",
   "execution_count": 4,
   "id": "7a20d8c8-5373-47b5-b914-5ba704a2f987",
   "metadata": {},
   "outputs": [
    {
     "name": "stdout",
     "output_type": "stream",
     "text": [
      "USD rate is 1 and INR rate is 86.3873 and converted amount is: 8638.73\n"
     ]
    }
   ],
   "source": [
    "currency_exchange('USD',100,'INR')"
   ]
  },
  {
   "cell_type": "code",
   "execution_count": null,
   "id": "a9a533b3-b8b5-434f-bff7-24c5df2d652d",
   "metadata": {},
   "outputs": [],
   "source": []
  }
 ],
 "metadata": {
  "kernelspec": {
   "display_name": "Python 3 (ipykernel)",
   "language": "python",
   "name": "python3"
  },
  "language_info": {
   "codemirror_mode": {
    "name": "ipython",
    "version": 3
   },
   "file_extension": ".py",
   "mimetype": "text/x-python",
   "name": "python",
   "nbconvert_exporter": "python",
   "pygments_lexer": "ipython3",
   "version": "3.12.7"
  }
 },
 "nbformat": 4,
 "nbformat_minor": 5
}
